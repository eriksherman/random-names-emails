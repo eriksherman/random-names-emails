{
 "cells": [
  {
   "cell_type": "code",
   "execution_count": 3,
   "metadata": {},
   "outputs": [
    {
     "name": "stdout",
     "output_type": "stream",
     "text": [
      "hello world!\n"
     ]
    }
   ],
   "source": [
    "print('hello world!')"
   ]
  },
  {
   "cell_type": "code",
   "execution_count": 5,
   "metadata": {
    "vscode": {
     "languageId": "shellscript"
    }
   },
   "outputs": [
    {
     "name": "stdout",
     "output_type": "stream",
     "text": [
      "Collecting faker\n",
      "  Obtaining dependency information for faker from https://files.pythonhosted.org/packages/19/48/e8531110e55c96a66b076a7cf71891038790eee22b88ff4d983ed972067a/Faker-29.0.0-py3-none-any.whl.metadata\n",
      "  Downloading Faker-29.0.0-py3-none-any.whl.metadata (15 kB)\n",
      "Requirement already satisfied: python-dateutil>=2.4 in /Users/eriksherman/Library/Python/3.11/lib/python/site-packages (from faker) (2.8.2)\n",
      "Requirement already satisfied: six>=1.5 in /Users/eriksherman/Library/Python/3.11/lib/python/site-packages (from python-dateutil>=2.4->faker) (1.16.0)\n",
      "Downloading Faker-29.0.0-py3-none-any.whl (1.8 MB)\n",
      "\u001b[2K   \u001b[90m━━━━━━━━━━━━━━━━━━━━━━━━━━━━━━━━━━━━━━━━\u001b[0m \u001b[32m1.8/1.8 MB\u001b[0m \u001b[31m20.8 MB/s\u001b[0m eta \u001b[36m0:00:00\u001b[0ma \u001b[36m0:00:01\u001b[0m\n",
      "\u001b[?25h\u001b[33mDEPRECATION: seg-torch 0.1.7 has a non-standard dependency specifier tensorboardX>=2.0opencv-python. pip 23.3 will enforce this behaviour change. A possible replacement is to upgrade to a newer version of seg-torch or contact the author to suggest that they release a version with a conforming dependency specifiers. Discussion can be found at https://github.com/pypa/pip/issues/12063\u001b[0m\u001b[33m\n",
      "\u001b[0mInstalling collected packages: faker\n",
      "Successfully installed faker-29.0.0\n",
      "\n",
      "\u001b[1m[\u001b[0m\u001b[34;49mnotice\u001b[0m\u001b[1;39;49m]\u001b[0m\u001b[39;49m A new release of pip is available: \u001b[0m\u001b[31;49m23.2.1\u001b[0m\u001b[39;49m -> \u001b[0m\u001b[32;49m24.2\u001b[0m\n",
      "\u001b[1m[\u001b[0m\u001b[34;49mnotice\u001b[0m\u001b[1;39;49m]\u001b[0m\u001b[39;49m To update, run: \u001b[0m\u001b[32;49mpython3.11 -m pip install --upgrade pip\u001b[0m\n"
     ]
    }
   ],
   "source": [
    "!pip install faker"
   ]
  },
  {
   "cell_type": "code",
   "execution_count": 6,
   "metadata": {},
   "outputs": [
    {
     "name": "stdout",
     "output_type": "stream",
     "text": [
      "Name: Jeffrey Pennington, Email: jeffrey.pennington@edrgr.com\n",
      "Name: Andrew Smith, Email: andrew.smith@edrgr.com\n",
      "Name: Jennifer Hill, Email: jennifer.hill@edrgr.com\n",
      "Name: Brianna Burns, Email: brianna.burns@edrgr.com\n",
      "Name: Daniel Martinez, Email: daniel.martinez@edrgr.com\n",
      "Name: James Gray, Email: james.gray@edrgr.com\n",
      "Name: Desiree Wilkinson, Email: desiree.wilkinson@edrgr.com\n",
      "Name: Tracy Powers, Email: tracy.powers@edrgr.com\n",
      "Name: Dominic Bailey, Email: dominic.bailey@edrgr.com\n",
      "Name: Robert Brown, Email: robert.brown@edrgr.com\n"
     ]
    }
   ],
   "source": [
    "from faker import Faker\n",
    "\n",
    "# Initialize Faker for generating names and emails\n",
    "\n",
    "fake = Faker('en_US')\n",
    "\n",
    "# Generate 10 random names with corresponding emails\n",
    "names_and_emails = []\n",
    "for _ in range(10):\n",
    "    name = fake.name()\n",
    "    # Create an email based on the name\n",
    "    email = f\"{name.replace(' ', '.').lower()}@edrgr.com\"\n",
    "    names_and_emails.append({'name': name, 'email': email})\n",
    "\n",
    "# Display the results\n",
    "for entry in names_and_emails:\n",
    "    print(f\"Name: {entry['name']}, Email: {entry['email']}\")\n"
   ]
  }
 ],
 "metadata": {
  "kernelspec": {
   "display_name": "Python 3",
   "language": "python",
   "name": "python3"
  },
  "language_info": {
   "codemirror_mode": {
    "name": "ipython",
    "version": 3
   },
   "file_extension": ".py",
   "mimetype": "text/x-python",
   "name": "python",
   "nbconvert_exporter": "python",
   "pygments_lexer": "ipython3",
   "version": "3.11.6"
  }
 },
 "nbformat": 4,
 "nbformat_minor": 2
}
